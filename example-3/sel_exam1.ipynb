{
 "cells": [
  {
   "cell_type": "markdown",
   "metadata": {},
   "source": [
    "# 셀리니움을 이용한 파싱"
   ]
  },
  {
   "cell_type": "code",
   "execution_count": 5,
   "metadata": {},
   "outputs": [],
   "source": [
    "import pandas as pd\n",
    "import numpy as np\n",
    "from bs4 import BeautifulSoup"
   ]
  },
  {
   "cell_type": "code",
   "execution_count": 3,
   "metadata": {},
   "outputs": [],
   "source": [
    "from selenium import webdriver"
   ]
  },
  {
   "cell_type": "code",
   "execution_count": 6,
   "metadata": {},
   "outputs": [],
   "source": [
    "driver = webdriver.Chrome('../chromedriver.exe')"
   ]
  },
  {
   "cell_type": "code",
   "execution_count": 7,
   "metadata": {},
   "outputs": [],
   "source": [
    "driver.get(\"https://finance.naver.com/item/sise_day.nhn?code=005930\")"
   ]
  },
  {
   "cell_type": "code",
   "execution_count": 16,
   "metadata": {},
   "outputs": [
    {
     "data": {
      "text/plain": [
       "'날짜 종가 전일비 시가 고가 저가 거래량\\n2020.08.11 58,900 1,100 58,000 59,500 57,800 19,234,541\\n2020.08.10 57,800 300 57,600 58,300 57,500 17,774,291\\n2020.08.07 57,500 500 57,900 58,400 57,100 18,751,717\\n2020.08.06 58,000 1,100 57,100 58,400 57,100 21,625,874\\n2020.08.05 56,900 400 57,300 57,500 56,300 17,739,706\\n2020.08.04 57,300 500 57,200 58,100 57,000 19,419,694\\n2020.08.03 56,800 1,100 57,800 57,900 56,700 21,158,940\\n2020.07.31 57,900 1,100 59,500 59,600 57,700 21,943,345\\n2020.07.30 59,000 0 59,700 60,100 59,000 19,285,354\\n2020.07.29 59,000 400 60,300 60,400 58,600 36,476,611'"
      ]
     },
     "execution_count": 16,
     "metadata": {},
     "output_type": "execute_result"
    }
   ],
   "source": [
    "table = driver.find_element_by_tag_name('table')"
   ]
  },
  {
   "cell_type": "code",
   "execution_count": 20,
   "metadata": {},
   "outputs": [],
   "source": [
    "value = driver.find_element_by_xpath('/html/body/table[1]')"
   ]
  },
  {
   "cell_type": "code",
   "execution_count": 22,
   "metadata": {},
   "outputs": [
    {
     "data": {
      "text/plain": [
       "['날짜',\n",
       " '종가',\n",
       " '전일비',\n",
       " '시가',\n",
       " '고가',\n",
       " '저가',\n",
       " '거래량',\n",
       " '2020.08.11',\n",
       " '58,900',\n",
       " '1,100',\n",
       " '58,000',\n",
       " '59,500',\n",
       " '57,800',\n",
       " '19,234,541',\n",
       " '2020.08.10',\n",
       " '57,800',\n",
       " '300',\n",
       " '57,600',\n",
       " '58,300',\n",
       " '57,500',\n",
       " '17,774,291',\n",
       " '2020.08.07',\n",
       " '57,500',\n",
       " '500',\n",
       " '57,900',\n",
       " '58,400',\n",
       " '57,100',\n",
       " '18,751,717',\n",
       " '2020.08.06',\n",
       " '58,000',\n",
       " '1,100',\n",
       " '57,100',\n",
       " '58,400',\n",
       " '57,100',\n",
       " '21,625,874',\n",
       " '2020.08.05',\n",
       " '56,900',\n",
       " '400',\n",
       " '57,300',\n",
       " '57,500',\n",
       " '56,300',\n",
       " '17,739,706',\n",
       " '2020.08.04',\n",
       " '57,300',\n",
       " '500',\n",
       " '57,200',\n",
       " '58,100',\n",
       " '57,000',\n",
       " '19,419,694',\n",
       " '2020.08.03',\n",
       " '56,800',\n",
       " '1,100',\n",
       " '57,800',\n",
       " '57,900',\n",
       " '56,700',\n",
       " '21,158,940',\n",
       " '2020.07.31',\n",
       " '57,900',\n",
       " '1,100',\n",
       " '59,500',\n",
       " '59,600',\n",
       " '57,700',\n",
       " '21,943,345',\n",
       " '2020.07.30',\n",
       " '59,000',\n",
       " '0',\n",
       " '59,700',\n",
       " '60,100',\n",
       " '59,000',\n",
       " '19,285,354',\n",
       " '2020.07.29',\n",
       " '59,000',\n",
       " '400',\n",
       " '60,300',\n",
       " '60,400',\n",
       " '58,600',\n",
       " '36,476,611']"
      ]
     },
     "execution_count": 22,
     "metadata": {},
     "output_type": "execute_result"
    }
   ],
   "source": [
    "value.text.split()"
   ]
  },
  {
   "cell_type": "code",
   "execution_count": 37,
   "metadata": {},
   "outputs": [],
   "source": [
    "driver.find_element_by_xpath('/html/body/table[2]/tbody/tr/td[2]/a').click() # 1"
   ]
  },
  {
   "cell_type": "code",
   "execution_count": 36,
   "metadata": {},
   "outputs": [],
   "source": [
    "driver.find_element_by_xpath('/html/body/table[2]/tbody/tr/td[4]/a').click() # 4"
   ]
  },
  {
   "cell_type": "code",
   "execution_count": 34,
   "metadata": {},
   "outputs": [],
   "source": [
    "driver.find_element_by_xpath('/html/body/table[2]/tbody/tr/td[6]/a').click() # 5"
   ]
  }
 ],
 "metadata": {
  "kernelspec": {
   "display_name": "Python 3",
   "language": "python",
   "name": "python3"
  },
  "language_info": {
   "codemirror_mode": {
    "name": "ipython",
    "version": 3
   },
   "file_extension": ".py",
   "mimetype": "text/x-python",
   "name": "python",
   "nbconvert_exporter": "python",
   "pygments_lexer": "ipython3",
   "version": "3.7.7"
  }
 },
 "nbformat": 4,
 "nbformat_minor": 4
}

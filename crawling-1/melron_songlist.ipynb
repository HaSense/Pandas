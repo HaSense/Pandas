{
 "cells": [
  {
   "cell_type": "code",
   "execution_count": 17,
   "metadata": {},
   "outputs": [],
   "source": [
    "#멜론 곡정보 뽑기\n",
    "#셀레니움 사용을 위한 파이썬 모듈\n",
    "from bs4 import BeautifulSoup\n",
    "from selenium import webdriver\n",
    "#웹드라이버 모듈 로드\n",
    "chromedriver_path = '../chromedriver.exe'\n",
    "driver = webdriver.Chrome(chromedriver_path)"
   ]
  },
  {
   "cell_type": "code",
   "execution_count": 18,
   "metadata": {},
   "outputs": [],
   "source": [
    "driver.get('https://www.melon.com/chart/week/index.htm')\n",
    "#urlopen으로 가져오는 방법"
   ]
  },
  {
   "cell_type": "code",
   "execution_count": 19,
   "metadata": {},
   "outputs": [],
   "source": [
    "src=driver.page_source"
   ]
  },
  {
   "cell_type": "code",
   "execution_count": 20,
   "metadata": {},
   "outputs": [
    {
     "name": "stdout",
     "output_type": "stream",
     "text": [
      "32872978\n",
      "32961718\n",
      "32998018\n",
      "32978341\n",
      "32794652\n",
      "33013877\n",
      "3894276\n",
      "32962258\n",
      "32871975\n",
      "32853712\n",
      "33001672\n",
      "32825454\n",
      "32999763\n",
      "33016659\n",
      "32720013\n",
      "32725013\n",
      "32578498\n",
      "32003395\n",
      "32559782\n",
      "32438894\n",
      "32491274\n",
      "32156286\n",
      "32808616\n",
      "32061975\n",
      "32183386\n",
      "31979846\n",
      "30773554\n",
      "32790516\n",
      "32224272\n",
      "32777869\n",
      "32055419\n",
      "30962526\n",
      "32651098\n",
      "32570501\n",
      "31737197\n",
      "32559781\n",
      "32947184\n",
      "31853557\n",
      "33016550\n",
      "32187544\n",
      "31029291\n",
      "32614125\n",
      "32378104\n",
      "33002813\n",
      "32137576\n",
      "32486613\n",
      "33011180\n",
      "32833393\n",
      "32889003\n",
      "31984204\n"
     ]
    }
   ],
   "source": [
    "songTagList = driver.find_elements_by_id('lst50')\n",
    "\n",
    "for i in songTagList:\n",
    "    print(i.get_attribute('data-song-no'))"
   ]
  },
  {
   "cell_type": "code",
   "execution_count": 21,
   "metadata": {},
   "outputs": [
    {
     "name": "stdout",
     "output_type": "stream",
     "text": [
      "Dynamite\n",
      "Lovesick Girls\n",
      "힘든 건 사랑이 아니다\n",
      "DON'T TOUCH ME\n",
      "취기를 빌려 (취향저격 그녀 X 산들)\n",
      "잠이 오질 않네요\n",
      "오래된 노래\n",
      "Savage Love (Laxed - Siren Beat) (BTS Remix)\n",
      "내 마음이 움찔했던 순간 (취향저격 그녀 X 규현)\n",
      "When We Disco (Duet with 선미)\n",
      "딩가딩가 (Dingga)\n",
      "눈누난나 (NUNU NANA)\n",
      "놓아줘 (with 태연)\n",
      "I CAN’T STOP ME\n",
      "How You Like That\n",
      "마리아 (Maria)\n",
      "에잇(Prod.&Feat. SUGA of BTS)\n",
      "흔들리는 꽃들 속에서 네 샴푸향이 느껴진거야\n",
      "Dolphin\n",
      "어떻게 지내 (Prod. By VAN.C)\n",
      "아로하\n",
      "늦은 밤 너의 집 앞 골목길에서\n",
      "홀로\n",
      "어떻게 이별까지 사랑하겠어, 널 사랑하는 거지\n",
      "Blueming\n",
      "Dance Monkey\n",
      "Downtown Baby\n",
      "다시 여기 바닷가\n",
      "METEOR\n",
      "거짓말이라도 해서 널 보고싶어\n",
      "Memories\n",
      "모든 날, 모든 순간 (Every day, Every Moment)\n",
      "사랑은 지날수록 더욱 선명하게 남아\n",
      "서면역에서\n",
      "작은 것들을 위한 시 (Boy With Luv) (Feat. Halsey)\n",
      "살짝 설렜어 (Nonstop)\n",
      "Bad Boy\n",
      "오늘도 빛나는 너에게 (To You My Light) (Feat.이라온)\n",
      "너도 아는\n",
      "우리 왜 헤어져야 해\n",
      "2002\n",
      "사랑하게 될 줄 알았어\n",
      "마음을 드려요\n",
      "사랑 못해, 남들 쉽게 다 하는 거\n",
      "Don't Start Now\n",
      "처음처럼\n",
      "나랑 같이 걸을래 (바른연애 길잡이 X 적재)\n",
      "덤디덤디 (DUMDi DUMDi)\n",
      "Ice Cream (with Selena Gomez)\n",
      "안녕\n"
     ]
    }
   ],
   "source": [
    "list = driver.find_elements_by_xpath(\"//*[@id='lst50']/td[6]/div/div/div[1]/span/a\")\n",
    "for i in list:\n",
    "    print(i.text)"
   ]
  },
  {
   "cell_type": "code",
   "execution_count": 22,
   "metadata": {},
   "outputs": [
    {
     "name": "stdout",
     "output_type": "stream",
     "text": [
      "방탄소년단\n",
      "BLACKPINK\n",
      "임창정\n",
      "환불원정대\n",
      "산들\n",
      "장범준\n",
      "스탠딩 에그\n",
      "Jawsh 685\n",
      "Jason Derulo\n",
      "방탄소년단\n",
      "규현 (KYUHYUN)\n",
      "박진영\n",
      "마마무 (Mamamoo)\n",
      "제시 (Jessi)\n",
      "Crush\n",
      "TWICE (트와이스)\n",
      "BLACKPINK\n",
      "화사 (Hwa Sa)\n",
      "아이유\n",
      "장범준\n",
      "오마이걸 (OH MY GIRL)\n",
      "오반\n",
      "조정석\n",
      "노을\n",
      "이하이\n",
      "AKMU (악동뮤지션)\n",
      "아이유\n",
      "Tones And I\n",
      "블루 (BLOO)\n",
      "싹쓰리 (유두래곤, 린다G, 비룡)\n",
      "창모 (CHANGMO)\n",
      "백지영\n",
      "Maroon 5\n",
      "폴킴\n",
      "전상근\n",
      "순순희\n",
      "방탄소년단\n",
      "오마이걸 (OH MY GIRL)\n",
      "청하\n",
      "Christopher\n",
      "마크툽 (MAKTUB)\n",
      "폴킴\n",
      "신예영\n",
      "Anne-Marie\n",
      "전미도\n",
      "아이유\n",
      "먼데이 키즈 (Monday Kiz)\n",
      "Dua Lipa\n",
      "엠씨더맥스 (M.C the MAX)\n",
      "적재\n",
      "(여자)아이들\n",
      "BLACKPINK\n",
      "폴킴\n"
     ]
    }
   ],
   "source": [
    "list = driver.find_elements_by_xpath(\"//*[@id='lst50']/td[6]/div/div/div[2]/a\")\n",
    "for i in list:\n",
    "    print(i.text)"
   ]
  }
 ],
 "metadata": {
  "kernelspec": {
   "display_name": "Python 3",
   "language": "python",
   "name": "python3"
  },
  "language_info": {
   "codemirror_mode": {
    "name": "ipython",
    "version": 3
   },
   "file_extension": ".py",
   "mimetype": "text/x-python",
   "name": "python",
   "nbconvert_exporter": "python",
   "pygments_lexer": "ipython3",
   "version": "3.7.9"
  }
 },
 "nbformat": 4,
 "nbformat_minor": 4
}

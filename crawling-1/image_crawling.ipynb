{
 "cells": [
  {
   "cell_type": "code",
   "execution_count": 1,
   "metadata": {},
   "outputs": [],
   "source": [
    "import time\n",
    "#셀레니움 사용을 위한 파이썬 모듈\n",
    "from bs4 import BeautifulSoup\n",
    "from selenium import webdriver\n",
    "#웹드라이버 모듈 로드\n",
    "chromedriver_path = '../chromedriver.exe'\n",
    "driver = webdriver.Chrome(chromedriver_path)"
   ]
  },
  {
   "cell_type": "code",
   "execution_count": 2,
   "metadata": {},
   "outputs": [],
   "source": [
    "#테스트할 웹사이트 주소 불러옮\n",
    "text = '맛집'\n",
    "driver.get('https://search.daum.net/nate?w=img&nil_search=btn&DA=NTB&enc=utf8&q='+str(text))"
   ]
  },
  {
   "cell_type": "code",
   "execution_count": 3,
   "metadata": {},
   "outputs": [
    {
     "data": {
      "text/plain": [
       "'https://search1.kakaocdn.net/argon/0x200_85_hr/8x5qcdbcQwi'"
      ]
     },
     "execution_count": 3,
     "metadata": {},
     "output_type": "execute_result"
    }
   ],
   "source": [
    "xpath = \"//*[@id='imgList']/div/a/img\"\n",
    "\n",
    "data = driver.find_element_by_xpath(xpath)\n",
    "\n",
    "src = data.get_attribute('src')\n",
    "src"
   ]
  },
  {
   "cell_type": "code",
   "execution_count": 4,
   "metadata": {},
   "outputs": [
    {
     "data": {
      "text/plain": [
       "True"
      ]
     },
     "execution_count": 4,
     "metadata": {},
     "output_type": "execute_result"
    }
   ],
   "source": [
    "data.screenshot(\"a001.png\")"
   ]
  },
  {
   "cell_type": "code",
   "execution_count": 5,
   "metadata": {},
   "outputs": [
    {
     "name": "stdout",
     "output_type": "stream",
     "text": [
      "80\n"
     ]
    }
   ],
   "source": [
    "#대량으로 받아봅시다\n",
    "xpath = \"//*[@id='imgList']/div/a/img\"\n",
    "\n",
    "datas = driver.find_elements_by_xpath(xpath)\n",
    "print(len(datas))"
   ]
  },
  {
   "cell_type": "code",
   "execution_count": 6,
   "metadata": {},
   "outputs": [],
   "source": [
    "#너무 개수가 많아서 잘라서 넣기로 결정\n",
    "datas2 = datas[0:20]"
   ]
  },
  {
   "cell_type": "code",
   "execution_count": 8,
   "metadata": {},
   "outputs": [],
   "source": [
    "cnt = 0 \n",
    "for i in datas2:\n",
    "    cnt = cnt + 1\n",
    "    time.sleep(0.1)\n",
    "    i.screenshot(f'img/img{str(cnt).zfill(3)}.png')"
   ]
  }
 ],
 "metadata": {
  "kernelspec": {
   "display_name": "Python 3",
   "language": "python",
   "name": "python3"
  },
  "language_info": {
   "codemirror_mode": {
    "name": "ipython",
    "version": 3
   },
   "file_extension": ".py",
   "mimetype": "text/x-python",
   "name": "python",
   "nbconvert_exporter": "python",
   "pygments_lexer": "ipython3",
   "version": "3.7.9"
  }
 },
 "nbformat": 4,
 "nbformat_minor": 4
}

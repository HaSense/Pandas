{
 "cells": [
  {
   "cell_type": "code",
   "execution_count": 1,
   "metadata": {},
   "outputs": [],
   "source": [
    "import pandas as pd\n",
    "import numpy as np"
   ]
  },
  {
   "cell_type": "code",
   "execution_count": 2,
   "metadata": {},
   "outputs": [],
   "source": [
    "import matplotlib.font_manager as fm\n",
    "import matplotlib.pyplot as plt\n",
    "import platform\n",
    "\n",
    "if platform.system() =='Windows':\n",
    "    font_path = 'C:/Windows/Fonts/gulim.ttc' #윈도우 굴림폰트\n",
    "elif platform.system() == 'Linux':    #우분투 18.04 테스트됨, 나눔폰트 설치 후\n",
    "    font_path = '/usr/share/fonts/truetype/nanum/NanumGothic.ttf'\n",
    "    \n",
    "fname = fm.FontProperties(fname=font_path).get_name()\n",
    "plt.rcParams['font.family'] = fname\n",
    "plt.rcParams['font.size'] = 12"
   ]
  },
  {
   "cell_type": "code",
   "execution_count": 3,
   "metadata": {},
   "outputs": [],
   "source": [
    "import seaborn as sns"
   ]
  },
  {
   "cell_type": "code",
   "execution_count": 4,
   "metadata": {},
   "outputs": [
    {
     "data": {
      "text/html": [
       "<div>\n",
       "<style scoped>\n",
       "    .dataframe tbody tr th:only-of-type {\n",
       "        vertical-align: middle;\n",
       "    }\n",
       "\n",
       "    .dataframe tbody tr th {\n",
       "        vertical-align: top;\n",
       "    }\n",
       "\n",
       "    .dataframe thead th {\n",
       "        text-align: right;\n",
       "    }\n",
       "</style>\n",
       "<table border=\"1\" class=\"dataframe\">\n",
       "  <thead>\n",
       "    <tr style=\"text-align: right;\">\n",
       "      <th></th>\n",
       "      <th>연도</th>\n",
       "      <th>실업률</th>\n",
       "    </tr>\n",
       "  </thead>\n",
       "  <tbody>\n",
       "    <tr>\n",
       "      <th>0</th>\n",
       "      <td>2002</td>\n",
       "      <td>3.3</td>\n",
       "    </tr>\n",
       "    <tr>\n",
       "      <th>1</th>\n",
       "      <td>2003</td>\n",
       "      <td>3.6</td>\n",
       "    </tr>\n",
       "    <tr>\n",
       "      <th>2</th>\n",
       "      <td>2004</td>\n",
       "      <td>3.7</td>\n",
       "    </tr>\n",
       "    <tr>\n",
       "      <th>3</th>\n",
       "      <td>2005</td>\n",
       "      <td>3.7</td>\n",
       "    </tr>\n",
       "    <tr>\n",
       "      <th>4</th>\n",
       "      <td>2006</td>\n",
       "      <td>3.5</td>\n",
       "    </tr>\n",
       "  </tbody>\n",
       "</table>\n",
       "</div>"
      ],
      "text/plain": [
       "     연도  실업률\n",
       "0  2002  3.3\n",
       "1  2003  3.6\n",
       "2  2004  3.7\n",
       "3  2005  3.7\n",
       "4  2006  3.5"
      ]
     },
     "execution_count": 4,
     "metadata": {},
     "output_type": "execute_result"
    }
   ],
   "source": [
    "year_unemploy_rate = pd.read_excel('연간실업률.xlsx', \n",
    "                          header=0,\n",
    "                          usecols = 'B, C',\n",
    "                          encoding='utf-8')\n",
    "year_unemploy_rate.head()"
   ]
  },
  {
   "cell_type": "code",
   "execution_count": 5,
   "metadata": {},
   "outputs": [
    {
     "name": "stdout",
     "output_type": "stream",
     "text": [
      "[2002, 2003, 2004, 2005, 2006, 2007, 2008, 2009, 2010, 2011, 2012, 2013, 2014, 2015, 2016, 2017, 2018]\n"
     ]
    }
   ],
   "source": [
    "x = year_unemploy_rate.loc[:,\"연도\"]\n",
    "x = x.tolist();\n",
    "type(x)\n",
    "print(x)"
   ]
  },
  {
   "cell_type": "code",
   "execution_count": 6,
   "metadata": {},
   "outputs": [
    {
     "name": "stdout",
     "output_type": "stream",
     "text": [
      "[3.3, 3.6, 3.7, 3.7, 3.5, 3.2, 3.2, 3.6, 3.7, 3.4, 3.2, 3.1, 3.5, 3.6, 3.7, 3.7, 3.8]\n"
     ]
    }
   ],
   "source": [
    "y = year_unemploy_rate.loc[:,\"실업률\"]\n",
    "y = y.tolist()\n",
    "print(y)"
   ]
  },
  {
   "cell_type": "code",
   "execution_count": 7,
   "metadata": {},
   "outputs": [
    {
     "data": {
      "image/png": "[encoded data removed]",
      "text/plain": [
       "<Figure size 1008x288 with 1 Axes>"
      ]
     },
     "metadata": {},
     "output_type": "display_data"
    }
   ],
   "source": [
    "sns.set(style=\"ticks\")\n",
    "sns.set_style('whitegrid')\n",
    "sns.set_color_codes()\n",
    "current_palette = sns.color_palette()\n",
    "#sns.palplot(current_palette)\n",
    "\n",
    "plt.figure(figsize=(14,4))\n",
    "plt.plot(x,y, color='blue', markersize=8, linestyle='dashed', linewidth=3, marker='o', markerfacecolor='red', label='y')\n",
    "\n",
    "plt.ylim(3, 4)\n",
    "plt.xlabel('실업률', fontproperties=fname)\n",
    "plt.ylabel('년도', fontproperties=fname)\n",
    "\n",
    "plt.show()\n",
    "#sns.lmplot(x = x, y = y)\n",
    "#sns.lineplot(year_unemploy_rate)"
   ]
  }
 ],
 "metadata": {
  "kernelspec": {
   "display_name": "Python 3",
   "language": "python",
   "name": "python3"
  },
  "language_info": {
   "codemirror_mode": {
    "name": "ipython",
    "version": 3
   },
   "file_extension": ".py",
   "mimetype": "text/x-python",
   "name": "python",
   "nbconvert_exporter": "python",
   "pygments_lexer": "ipython3",
   "version": "3.7.6"
  }
 },
 "nbformat": 4,
 "nbformat_minor": 4
}
